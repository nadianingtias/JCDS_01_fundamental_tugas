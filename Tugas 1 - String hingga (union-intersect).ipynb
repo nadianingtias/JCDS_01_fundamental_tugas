{
 "cells": [
  {
   "cell_type": "markdown",
   "metadata": {},
   "source": [
    "# Tugas\n",
    "\n",
    "<hr> \n",
    "\n",
    "## String\n",
    "- Menghitung Jumlah huruf tertentu dalam kalimat tanpa count()\n",
    "- Menghitung Jumlah kata tertetu tanpa count()\n"
   ]
  },
  {
   "cell_type": "code",
   "execution_count": 26,
   "metadata": {},
   "outputs": [
    {
     "name": "stdout",
     "output_type": "stream",
     "text": [
      "==== MENCARI banyak HURUF H ====\n",
      "\n",
      "kalimat :  Hari ini Hari tidak masuk kelas\n",
      "jumlah huruf h ada 2\n"
     ]
    }
   ],
   "source": [
    "print(\"==== MENCARI banyak HURUF H ====\\n\") \n",
    "kalimat = 'Hari ini Hari tidak masuk kelas'\n",
    "cari = 'h'\n",
    "x = kalimat.lower().replace(cari.lower(), '')\n",
    "jmlCari = len(nama) - len(x)\n",
    "print(f\"kalimat : \", kalimat)\n",
    "print(f'jumlah huruf h ada {jmlCari}')"
   ]
  },
  {
   "cell_type": "code",
   "execution_count": 12,
   "metadata": {},
   "outputs": [
    {
     "name": "stdout",
     "output_type": "stream",
     "text": [
      "jumlah kata \"hari\" ada : 2\n"
     ]
    }
   ],
   "source": [
    "#Mencari banyak kata Hari\n",
    "cariKata = 'hari'\n",
    "lenCariKata = len(cariKata)\n",
    "x = nama.lower().replace(cariKata.lower(), '')\n",
    "jmlCari = int((len(nama) - len(x))/lenCariKata)\n",
    "print(f'jumlah kata \"{cariKata}\" ada : {jmlCari}')"
   ]
  },
  {
   "cell_type": "markdown",
   "metadata": {},
   "source": [
    "## Aritmatika Sederhana\n",
    "\n",
    "Soal cerita :\n",
    "\n",
    "Di dalam kandang terdapat kambing dan ayam sebanyak 13 ekor, jika jumlah kaki-kaki hewan tsb 32 buah, maka jumlah kambing dan ayam masing-masing adalah?\n"
   ]
  },
  {
   "cell_type": "code",
   "execution_count": 25,
   "metadata": {},
   "outputs": [
    {
     "name": "stdout",
     "output_type": "stream",
     "text": [
      "Jumlah Kambing : 3.0 ekor\n",
      "Jumlah Ayam: 10.0 ekor\n"
     ]
    }
   ],
   "source": [
    "nKambing = 0\n",
    "nAyam = 0\n",
    "kakiKambing = 4\n",
    "kakiAyam = 2\n",
    "kambingDanAyam = 13\n",
    "kakimereka = 32\n",
    "\n",
    "selisihKaki = abs(kakiKambing - kakiAyam)\n",
    "nKambing = abs(kakimereka - (kakiAyam)*kambingDanAyam) / selisihKaki\n",
    "nAyam = abs(kakimereka - (kakiKambing)*kambingDanAyam) / selisihKaki\n",
    "\n",
    "print(f\"Jumlah Kambing : {nKambing} ekor\")\n",
    "print(f\"Jumlah Ayam: {nAyam} ekor\")"
   ]
  },
  {
   "cell_type": "markdown",
   "metadata": {},
   "source": [
    "Soal cerita:\n",
    "\n",
    "Umur andi dan umur ayahnya sekarang jumlahnya 50 tahun.empat tahun yang lalu umur ayah andi 6 kali umur andi.umur andi dan umur ayahnya saat ini adalah??"
   ]
  },
  {
   "cell_type": "code",
   "execution_count": 22,
   "metadata": {},
   "outputs": [
    {
     "name": "stdout",
     "output_type": "stream",
     "text": [
      "Andi : 10.0 tahun\n",
      "ayah : 40.0 tahun\n"
     ]
    }
   ],
   "source": [
    "#soal ayah dan andi\n",
    "nAndi = 1\n",
    "nAyah = 1\n",
    "totalAyahDanAndi = 50\n",
    "tahun = -4\n",
    "ayahBandingAndi = 6/1\n",
    "\n",
    "totalkiri = totalAyahDanAndi + abs(tahun*ayahBandingAndi) + tahun\n",
    "andi = totalkiri/(ayahBandingAndi + nAndi)\n",
    "print(f\"Andi : {andi} tahun\")\n",
    "ayah = totalAyahDanAndi - andi\n",
    "print(f\"ayah : {ayah} tahun\")"
   ]
  },
  {
   "cell_type": "markdown",
   "metadata": {},
   "source": [
    "Soal cerita :\n",
    "\n",
    "Sembilan belas  tahun yang lalu, umur  Anak  setengah tahun lebih muda dari seperempat umur Ibunya.\n",
    "Umur anak sekarang 19 tahun lebih tua dari sepertujuh  umur Ibunya.\n",
    "Berapa umur Ibu  saat melahirkan anaknya ?\n",
    "\n"
   ]
  },
  {
   "cell_type": "code",
   "execution_count": 23,
   "metadata": {},
   "outputs": [
    {
     "name": "stdout",
     "output_type": "stream",
     "text": [
      "umur ibu : 49.0 tahun\n",
      "umur anak : 26.0 tahun\n",
      "umur ibu saat melahirkan anaknya : 23.0 tahun\n"
     ]
    }
   ],
   "source": [
    "tahun = -19\n",
    "banding1 = 7/1\n",
    "banding2 = 4/1\n",
    "selisih = 0.5\n",
    "\n",
    "x = abs(tahun * banding1) + abs(selisih*(banding1*banding2))\n",
    "ibu = x/(banding1-banding2)\n",
    "anak = 19 + (ibu/7)\n",
    "\n",
    "print(f\"umur ibu : {ibu} tahun\")\n",
    "print(f\"umur anak : {anak} tahun\")\n",
    "print(f\"umur ibu saat melahirkan anaknya : {ibu-anak} tahun\")"
   ]
  },
  {
   "cell_type": "markdown",
   "metadata": {},
   "source": [
    "## Operasi Dalam Set\n",
    "\n",
    "<hr>\n",
    "\n",
    "S = {0,1,2,3,4,5,6,7,8,9,10}\n",
    "\n",
    "A = {2,3,5,7}\n",
    "\n",
    "B = {5,7,9}\n",
    "\n",
    "Tentukan :\n",
    "A = A\n",
    "\n",
    "B = B\n",
    "\n",
    "AnB\n",
    "\n",
    "AuB\n",
    "\n",
    "A n (AuB)\n",
    "\n",
    "B n (AuB)\n",
    "\n",
    "(AuB) n (AuB) \n",
    "\n",
    "(AuB) u (AuB) "
   ]
  },
  {
   "cell_type": "code",
   "execution_count": 28,
   "metadata": {
    "scrolled": true
   },
   "outputs": [
    {
     "name": "stdout",
     "output_type": "stream",
     "text": [
      "==== soal himpunan di dalam set ====\n",
      "A = {2, 3, 5, 7}\n",
      "B = {9, 5, 7}\n",
      "A n B = {5, 7}\n",
      "A u B : {2, 3, 5, 7, 9}\n",
      "A n (A u B) : {2, 3, 5, 7}\n",
      "B n (A u B) : {9, 5, 7}\n",
      "(A n B) n (A u B) : {2, 3, 5, 7, 9}\n",
      "(A u B) u (A u B) : {2, 3, 5, 7, 9}\n"
     ]
    }
   ],
   "source": [
    "S = {0,1,2,3,4,5,6,7,8,9,10}\n",
    "A = {2,3,5,7}\n",
    "B = {5,7,9}\n",
    "# Tentukan :\n",
    "A = A\n",
    "B = B\n",
    "AnB = A & B\n",
    "AuB = A | B\n",
    "AirisanAuB = A & (A | B)\n",
    "BirisanAuB = B & (A | B)\n",
    "AuBirisanAuB = (A | B ) & ( A | B)\n",
    "AuBgabunganAuB = (A & B) | (A | B)\n",
    "\n",
    "print(\"==== soal himpunan di dalam set ====\")\n",
    "print(f\"A = {A}\")\n",
    "print(f\"B = {B}\")\n",
    "print(f\"A n B = {AnB}\")\n",
    "print(f\"A u B : {AuB}\")\n",
    "print(f\"A n (A u B) : {AirisanAuB}\")\n",
    "print(f\"B n (A u B) : {BirisanAuB}\")\n",
    "print(f\"(A n B) n (A u B) : {AuBirisanAuB}\")\n",
    "print(f\"(A u B) u (A u B) : {AuBgabunganAuB}\")"
   ]
  },
  {
   "cell_type": "code",
   "execution_count": null,
   "metadata": {
    "collapsed": true
   },
   "outputs": [],
   "source": []
  }
 ],
 "metadata": {
  "kernelspec": {
   "display_name": "Python 3",
   "language": "python",
   "name": "python3"
  },
  "language_info": {
   "codemirror_mode": {
    "name": "ipython",
    "version": 3
   },
   "file_extension": ".py",
   "mimetype": "text/x-python",
   "name": "python",
   "nbconvert_exporter": "python",
   "pygments_lexer": "ipython3",
   "version": "3.6.1"
  }
 },
 "nbformat": 4,
 "nbformat_minor": 2
}
