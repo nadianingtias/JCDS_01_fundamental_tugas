{
 "cells": [
  {
   "cell_type": "markdown",
   "metadata": {},
   "source": [
    "## Dictionary - Function - Return Function\n",
    "<hr>\n",
    "\n",
    "Membuat program sederhana untuk konversi nama hari dalam bahasa indonesia dan bahasa inggris"
   ]
  },
  {
   "cell_type": "code",
   "execution_count": 2,
   "metadata": {},
   "outputs": [
    {
     "name": "stdout",
     "output_type": "stream",
     "text": [
      "type the day : monday\n",
      "bahasa of MONDAY = SENIN\n"
     ]
    }
   ],
   "source": [
    "days = {\n",
    "    'senin' : 'monday',\n",
    "    'selasa' : 'tuesday',\n",
    "    'rabu' : 'wednesday',\n",
    "    'kamis' : ' thursday',\n",
    "    'jumat' : 'friday',\n",
    "    'sabtu' : 'saturday',\n",
    "    'minggu' : 'sunday'\n",
    "}\n",
    "# i= True\n",
    "# while i == True:\n",
    "day = input(\"type the day : \")\n",
    "daysKeys = list(days.keys()) #daftar indo\n",
    "daysValues = list(days.values()) #daftar eng 6\n",
    "\n",
    "if day in daysValues:\n",
    "    artinya = daysKeys[daysValues.index(day.lower())]\n",
    "    print(f\"bahasa of {day.upper()} = {artinya.upper()}\")\n",
    "else:\n",
    "    artinya = daysValues[daysKeys.index(day.lower())]\n",
    "    print(f\"bahasa of {day.upper()} = {artinya.upper()}\")"
   ]
  },
  {
   "cell_type": "markdown",
   "metadata": {},
   "source": [
    "Mencari tahu hari apa (100) hari lagi dari hari (Rabu)"
   ]
  },
  {
   "cell_type": "markdown",
   "metadata": {
    "collapsed": true
   },
   "source": [
    "## Condition\n",
    "\n",
    "<hr>\n",
    " #### konversi nilai ke dalam golongan nilai huruf"
   ]
  },
  {
   "cell_type": "code",
   "execution_count": 1,
   "metadata": {},
   "outputs": [
    {
     "name": "stdout",
     "output_type": "stream",
     "text": [
      " Nilai kamu : 98, jadi kamu golongan : A\n"
     ]
    }
   ],
   "source": [
    "# KOnversi nilai ke dalam golongan nilai huruf\n",
    "\n",
    "nilai = 98\n",
    "if nilai >= 82:\n",
    "    result = 'A'\n",
    "elif nilai >=72:\n",
    "    result = 'B'\n",
    "elif nilai >=62:\n",
    "    result = 'C'\n",
    "elif nilai >= 52:\n",
    "    result = 'D'\n",
    "else:\n",
    "    result = 'E'\n",
    "\n",
    "print(f\" Nilai kamu : {nilai}, jadi kamu golongan : {result}\")\n"
   ]
  },
  {
   "cell_type": "markdown",
   "metadata": {},
   "source": [
    "\n",
    "#### buat sebuah function 1 parameter untuk menentukan ganjil atau genap\n"
   ]
  },
  {
   "cell_type": "code",
   "execution_count": 3,
   "metadata": {},
   "outputs": [
    {
     "name": "stdout",
     "output_type": "stream",
     "text": [
      "\n",
      "masukkan angka yang ingin dicek : 23\n",
      "ganjil\n"
     ]
    }
   ],
   "source": [
    "def cekGanjilGenap(x):\n",
    "    if x % 2 != 0:\n",
    "        print(\"ganjil\")\n",
    "    else:\n",
    "        print(\"genap\")\n",
    "\n",
    "cekGanjilGenap(float(input(\"\\nmasukkan angka yang ingin dicek : \")))\n"
   ]
  },
  {
   "cell_type": "markdown",
   "metadata": {},
   "source": [
    "#### buat function untuk input angka, operator, input angka 2, output hasil dari\n"
   ]
  },
  {
   "cell_type": "code",
   "execution_count": 4,
   "metadata": {},
   "outputs": [
    {
     "name": "stdout",
     "output_type": "stream",
     "text": [
      "masukkan angka 1 : 2\n",
      "masukkan operan (+ - * /): +\n",
      "masukkan angka 2 : 3\n",
      "2.0 + 3.0\n",
      "hasil : 5.0\n"
     ]
    }
   ],
   "source": [
    "def operasi():\n",
    "    angka1 = float(input(\"masukkan angka 1 : \"))\n",
    "    operan = input(\"masukkan operan (+ - * /): \")\n",
    "    angka2 = float(input(\"masukkan angka 2 : \"))\n",
    "    res = 0\n",
    "    if operan == '+':\n",
    "        res = angka1 + angka2\n",
    "        print(angka1, operan ,angka2)\n",
    "    elif operan == '-':\n",
    "        res = angka1 - angka2\n",
    "        print(angka1, operan ,angka2)\n",
    "    elif operan == '*':\n",
    "        res = angka1 * angka2\n",
    "        print(angka1, operan ,angka2)\n",
    "    elif operan == '/':\n",
    "        res = angka1 / angka2\n",
    "        print(angka2, operan ,angka2)\n",
    "    else :\n",
    "        print(\"maaf operan anda salah\")\n",
    "    print(f\"hasil : {res}\")\n",
    "operasi()"
   ]
  },
  {
   "cell_type": "markdown",
   "metadata": {},
   "source": [
    "#### function ubah huruf vokal menjadi o"
   ]
  },
  {
   "cell_type": "code",
   "execution_count": 14,
   "metadata": {},
   "outputs": [
    {
     "name": "stdout",
     "output_type": "stream",
     "text": [
      "masukkan kata ubah jadi o vocal : manusia biasa\n",
      "monosoo booso\n"
     ]
    }
   ],
   "source": [
    "# dengan fungsi replace\n",
    "def oVocal(text):\n",
    "    voc = ['a','e','u','i']\n",
    "    for vo in voc:\n",
    "        text = text.lower().replace(vo, 'o')\n",
    "    print(text)\n",
    "oVocal(input('masukkan kata ubah jadi o vocal : '))"
   ]
  },
  {
   "cell_type": "code",
   "execution_count": 15,
   "metadata": {},
   "outputs": [
    {
     "name": "stdout",
     "output_type": "stream",
     "text": [
      "['l', 'o', 'n', 't', 'o', 'n', 'g']\n",
      "lontong\n"
     ]
    }
   ],
   "source": [
    "# tanpa fungsi replace\n",
    "string = 'lintang'\n",
    "listStr = list(string)\n",
    "\n",
    "vocal = ['a', 'i', 'u', 'e', 'o']\n",
    "for i in range(len(listStr)):\n",
    "    if listStr[i] in vocal:\n",
    "        listStr[i] = 'o'\n",
    "\n",
    "string = ''.join(listStr)\n",
    "print(listStr)\n",
    "print(string)"
   ]
  },
  {
   "cell_type": "code",
   "execution_count": 16,
   "metadata": {},
   "outputs": [
    {
     "name": "stdout",
     "output_type": "stream",
     "text": [
      "L0nt0ng\n",
      "L0nt0ng\n"
     ]
    }
   ],
   "source": [
    "string = 'Lintang'\n",
    "# Define variables\n",
    "result = ''\n",
    "vocal = ['a', 'i', 'u', 'e', 'o']\n",
    "for i in string:\n",
    "        if i in vocal:\n",
    "                i = '0'\n",
    "        result += i\n",
    "print(result)\n",
    "string = result\n",
    "print(string)"
   ]
  },
  {
   "cell_type": "markdown",
   "metadata": {},
   "source": [
    "#### RETURN function - hitung luas Persegi"
   ]
  },
  {
   "cell_type": "code",
   "execution_count": 7,
   "metadata": {},
   "outputs": [
    {
     "name": "stdout",
     "output_type": "stream",
     "text": [
      "Luas persegi dengan sisi 6 :  36\n"
     ]
    }
   ],
   "source": [
    "#RETURN function\n",
    "def luasPersegi(sisi):\n",
    "    luas = sisi * sisi\n",
    "    return luas\n",
    "\n",
    "sisiA = 6\n",
    "luasPersegiA = luasPersegi(sisiA)\n",
    "print(f\"Luas persegi dengan sisi {sisiA} : \", luasPersegiA)"
   ]
  },
  {
   "cell_type": "markdown",
   "metadata": {},
   "source": [
    "#### while, break, studi case password input"
   ]
  },
  {
   "cell_type": "code",
   "execution_count": 9,
   "metadata": {},
   "outputs": [
    {
     "name": "stdout",
     "output_type": "stream",
     "text": [
      "masukkan password : nadia\n",
      "Password salah, masukkan password : 123\n",
      "Pasword Benar !\n"
     ]
    }
   ],
   "source": [
    "#while, break, studi case password input\n",
    "state = False\n",
    "password = '123'\n",
    "chance = 3\n",
    "inputPass = input(\"masukkan password : \")\n",
    "\n",
    "while state == False:\n",
    "    if inputPass == password:\n",
    "        state = True\n",
    "        print(\"Pasword Benar !\")\n",
    "    else :\n",
    "        inputPass = input(\"Password salah, masukkan password : \")\n",
    "        chance -= 1\n",
    "        if chance == 0 :\n",
    "            break"
   ]
  },
  {
   "cell_type": "markdown",
   "metadata": {},
   "source": [
    "#### FizzBuzz"
   ]
  },
  {
   "cell_type": "code",
   "execution_count": 13,
   "metadata": {},
   "outputs": [
    {
     "name": "stdout",
     "output_type": "stream",
     "text": [
      "input fizzbuzz : 15\n",
      "FizzBuzz\n"
     ]
    }
   ],
   "source": [
    "# FizzBuzz\n",
    "# kelipatan 3 print Fizz\n",
    "# kelipatan 5 print Fizz\n",
    "# kelipatan 3 dan 5 print FizzBuzz\n",
    "\n",
    "def fizzBuzz(num):\n",
    "    if num%3 == 0 and num%5 == 0:\n",
    "        print(\"FizzBuzz\")\n",
    "    elif num%3 == 0:\n",
    "        print(\"Fizz\")\n",
    "    elif num%5 == 0:\n",
    "        print(\"Buzz\")\n",
    "    else:\n",
    "        print(\"try again\")\n",
    "\n",
    "fizzBuzz(float(input(\"input fizzbuzz : \")))"
   ]
  },
  {
   "cell_type": "markdown",
   "metadata": {},
   "source": [
    "#### # make a function that prove PALINDROME word\n",
    "### k a t a k"
   ]
  },
  {
   "cell_type": "code",
   "execution_count": 17,
   "metadata": {
    "scrolled": true
   },
   "outputs": [
    {
     "name": "stdout",
     "output_type": "stream",
     "text": [
      "True\n"
     ]
    }
   ],
   "source": [
    "# PALINDROM\n",
    "# 1 line using index manipulation\n",
    "\n",
    "def ispalindrome(word):\n",
    "    return word == word[::-1]\n",
    "print(ispalindrome(\"katak\"))"
   ]
  },
  {
   "cell_type": "code",
   "execution_count": 21,
   "metadata": {},
   "outputs": [
    {
     "name": "stdout",
     "output_type": "stream",
     "text": [
      "True\n"
     ]
    }
   ],
   "source": [
    "# PALINDROM\n",
    "# USING RECURSION\n",
    "def ispalindrome2(word):\n",
    "    if len(word) < 2: #exit gate -> ketika masih 2 harus dicek, kalau sudah 1 atau ABIS true\n",
    "        return True\n",
    "    if word[0] == word[-1]: \n",
    "        return ispalindrome(word[1:-1]) #=> RECURSION IS HERE !!\n",
    "    else:\n",
    "        return False\n",
    "print(ispalindrome2(\"katak\"))"
   ]
  },
  {
   "cell_type": "markdown",
   "metadata": {},
   "source": [
    "#### reverse kata di dalam kalimat"
   ]
  },
  {
   "cell_type": "code",
   "execution_count": 22,
   "metadata": {},
   "outputs": [
    {
     "name": "stdout",
     "output_type": "stream",
     "text": [
      "masukkan kalimat : Saya sedang membaca buku\n",
      "Saya sedang membaca buku dibalik menjadi = ayaS gnades acabmem ukub \n"
     ]
    }
   ],
   "source": [
    "def getReverse(inputKal):\n",
    "    kalimatReverse = ''\n",
    "    listKata = inputKal.split(' ')\n",
    "    for kata in listKata: \n",
    "        # print(kata[::-1], end=\" \")\n",
    "        kalimatReverse += kata[::-1] + ' '\n",
    "    return kalimatReverse\n",
    "\n",
    "inputKalimat = input(\"masukkan kalimat : \")\n",
    "hasilReverse = getReverse(inputKalimat)\n",
    "print(f\"{inputKalimat} dibalik menjadi = {hasilReverse}\")  \n",
    "    "
   ]
  },
  {
   "cell_type": "markdown",
   "metadata": {},
   "source": [
    "### Program menerjemahkan kata menjadi morse"
   ]
  },
  {
   "cell_type": "code",
   "execution_count": 1,
   "metadata": {},
   "outputs": [
    {
     "name": "stdout",
     "output_type": "stream",
     "text": [
      "membuat morse dengan kalimat : Nadia Ningtias\n",
      "Nadia Ningtias  =  -./.-/-../../.-/ /-./../-./--./-/../.-/.../\n",
      "=======================================================================\n"
     ]
    }
   ],
   "source": [
    "dictAbjad  = {\n",
    "    'a':'.-',\n",
    "    'b':'-...',\n",
    "    'c':'-.-.',\n",
    "    'd':'-..',\n",
    "    'e':'.',\n",
    "    'f':'..-.',\n",
    "    'g':'--.',\n",
    "    'h':'....',\n",
    "    'i':'..',\n",
    "    'j':'.---',\n",
    "    'k':'-.-',\n",
    "    'l':'.-..',\n",
    "    'm':'--',\n",
    "    'n':'-.',\n",
    "    'o':'---',\n",
    "    'p':'.--.',\n",
    "    'q':'--.-',\n",
    "    'r':'.-.',\n",
    "    's':'...',\n",
    "    't':'-',\n",
    "    'u':'..-',\n",
    "    'v':'...-',\n",
    "    'w':'..-',\n",
    "    'x':'-..-',\n",
    "    'y':'-.--',\n",
    "    'z':'--..',\n",
    "    ' ':' '\n",
    "}\n",
    "sep = \"\\n=======================================================================\"\n",
    "def getMorse(kata):\n",
    "    result = ''\n",
    "    print(kata, ' = ', end = ' ')\n",
    "    for letter in kata.lower():\n",
    "        print(dictAbjad.get(letter), end =\"/\")\n",
    "        result += dictAbjad.get(letter)\n",
    "    print(sep)\n",
    "    return result\n",
    "\n",
    "morseResult = getMorse(input(\"membuat morse dengan kalimat : \"))\n",
    "# print(morseResult)"
   ]
  },
  {
   "cell_type": "markdown",
   "metadata": {
    "collapsed": true
   },
   "source": [
    "#### caesar cipher"
   ]
  },
  {
   "cell_type": "code",
   "execution_count": 8,
   "metadata": {},
   "outputs": [
    {
     "name": "stdout",
     "output_type": "stream",
     "text": [
      "Caesar cipher dengan kata : AaAaA\n",
      "Step : 3\n",
      "AaAaA  =  ddddd\n",
      "=======================================================================\n",
      "ddddd\n"
     ]
    }
   ],
   "source": [
    "listAbjad = tuple(dictAbjad.keys())\n",
    "def getCaesarCipher(kata, step):\n",
    "    result =''\n",
    "    print(kata, ' = ', end = ' ')\n",
    "    for letter in kata:\n",
    "        print(listAbjad[((listAbjad.index(letter.lower()) + int(step)) % len(dictAbjad))], end='')\n",
    "        result += listAbjad[((listAbjad.index(letter.lower()) + int(step)) % len(dictAbjad))]\n",
    "    print(sep)\n",
    "    return result\n",
    "\n",
    "caesarCipherResult = getCaesarCipher(input(\"Caesar cipher dengan kata : \"), input(\"Step : \"))\n",
    "print(caesarCipherResult)"
   ]
  }
 ],
 "metadata": {
  "kernelspec": {
   "display_name": "Python 3",
   "language": "python",
   "name": "python3"
  },
  "language_info": {
   "codemirror_mode": {
    "name": "ipython",
    "version": 3
   },
   "file_extension": ".py",
   "mimetype": "text/x-python",
   "name": "python",
   "nbconvert_exporter": "python",
   "pygments_lexer": "ipython3",
   "version": "3.6.1"
  }
 },
 "nbformat": 4,
 "nbformat_minor": 2
}
