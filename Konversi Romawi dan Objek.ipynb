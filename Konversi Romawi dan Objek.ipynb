{
 "cells": [
  {
   "cell_type": "markdown",
   "metadata": {},
   "source": [
    "# program input angka output romawi"
   ]
  },
  {
   "cell_type": "code",
   "execution_count": 14,
   "metadata": {
    "collapsed": true
   },
   "outputs": [],
   "source": [
    "first = ['I','X','C','M','']\n",
    "second = ['V','L','D','']\n",
    "cheat2 = [first, second]\n",
    "def keRomawiUnder4000(angka): #34 4\n",
    "    strAngka = str(angka)\n",
    "    lenAngka = len(strAngka)\n",
    "    hasilRomawi=''\n",
    "    for i in range(1, lenAngka+1): #satuan, puluhan, ratusan, ribuan\n",
    "        pop = int(strAngka[-1 * i])\n",
    "        if pop == 4:\n",
    "            hasilRomawi = cheat2[0][i-1] + cheat2[1][i-1] + hasilRomawi\n",
    "        elif pop == 9:\n",
    "            hasilRomawi = cheat2[0][i-1] + cheat2[0][i] + hasilRomawi\n",
    "        else:               #ket:1,2,3, 5, 6,7,8\n",
    "            hasilRomawi = (int(pop/5)*cheat2[1][i-1]) + (cheat2[0][i-1]*(pop%5)) + hasilRomawi\n",
    "    print(f\"angka {angka} : \", hasilRomawi)\n",
    "    return hasilRomawi\n",
    "def convertRomawi(ang):\n",
    "    hasil =''\n",
    "    angka = ang\n",
    "    while angka !=0:\n",
    "        locSatuan = len(str(angka))-1\n",
    "        pembagi = (10**(locSatuan))\n",
    "        muncul = int(angka/pembagi)\n",
    "        if muncul == 9:\n",
    "            hasil = hasil + cheat2[0][locSatuan] + cheat2[0][locSatuan+1]\n",
    "        elif muncul == 4:\n",
    "            hasil = hasil + cheat2[0][locSatuan] + cheat2[1][locSatuan]\n",
    "        else:   #ket: 1,2,3, 5,6,7,8\n",
    "            hasil = hasil + int(muncul/5)*cheat2[1][locSatuan] + (muncul%5)*cheat2[0][locSatuan]\n",
    "        angka = angka % pembagi\n",
    "    print(f\"angka {ang} : \", hasil)\n",
    "    return (hasil)"
   ]
  },
  {
   "cell_type": "code",
   "execution_count": 15,
   "metadata": {
    "collapsed": true
   },
   "outputs": [],
   "source": [
    "def tugas5November():\n",
    "    angka = 3222\n",
    "    keRomawiUnder4000(angka)\n",
    "    convertRomawi(angka)  "
   ]
  },
  {
   "cell_type": "code",
   "execution_count": 29,
   "metadata": {
    "collapsed": true
   },
   "outputs": [],
   "source": [
    "\n",
    "#CARA INHERIT 3\n",
    "class Wisudawati:\n",
    "    def __init__(self, nama, gelar):\n",
    "        super().__init__(nama, gelar)\n",
    "class Student:\n",
    "    def __init__(self, nama, usia):\n",
    "        self.nama = nama\n",
    "        self.usia = usia"
   ]
  },
  {
   "cell_type": "code",
   "execution_count": 18,
   "metadata": {
    "collapsed": true
   },
   "outputs": [],
   "source": [
    "# CARA INHERIT 2\n",
    "class Person:\n",
    "    def __init__(self, nama, gelar):\n",
    "        self.name = nama\n",
    "        self.gelar = gelar\n",
    "class Wisudawan:\n",
    "    def __init__(self, nama, gelar, ipk):\n",
    "        Person.__init__(self, nama, gelar)\n",
    "        self.ipk = ipk"
   ]
  },
  {
   "cell_type": "code",
   "execution_count": 32,
   "metadata": {
    "collapsed": true
   },
   "outputs": [],
   "source": [
    "def mengubahDataJadiObjek():\n",
    "    data = [\n",
    "        {'nama': 'Nadia Ningtias', 'usia': 21},\n",
    "        {'nama': 'Andi', 'usia': 22},\n",
    "        {'nama': 'Budi', 'usia': 23},\n",
    "        {'nama': 'caca', 'usia': 24},\n",
    "    ]\n",
    "    namas = ['nad', 'and', 'bud', 'cac']\n",
    "    print(\"----------------------------------------------------\")\n",
    "    # print(list(map(lambda a: vars()[a], namas)))\n",
    "\n",
    "\n",
    "    tem = [] # list of object yang akan digenerate\n",
    "    for i in range(len(data)):\n",
    "        # print(dt)\n",
    "        vars()[namas[i]] = Student( data[i].get('nama'), data[i].get('usia'))\n",
    "        tem.append( Student(data[i].get('nama'), data[i].get('usia')))\n",
    "        print(vars()[namas[i]].__dict__)\n",
    "    \n",
    "    for obj in tem:\n",
    "        pprint(obj.__dict__)\n",
    "\n",
    "    print(tem[0].nama)\n",
    "    # print(nad.__dict__)\n",
    "\n",
    "def persegiBerdasarSisi():\n",
    "    class Persegi:\n",
    "        def __init__(self, sisi):\n",
    "            self.sisi = sisi\n",
    "            self.keliling = sisi*4\n",
    "            self.luas = sisi**2\n",
    "    # class PersegiPanjang:\n",
    "\n",
    "    persegi1 = Persegi(5)\n",
    "    pprint(persegi1.__dict__)\n"
   ]
  },
  {
   "cell_type": "code",
   "execution_count": 33,
   "metadata": {
    "collapsed": true
   },
   "outputs": [],
   "source": [
    "from pprint import pprint \n",
    "def latihan5November():\n",
    "#     mobil1 = Mobil()\n",
    "#     print(mobil1.roda)\n",
    "#     print(mobil1.warna)\n",
    "\n",
    "#     car1 = Car('item', 2019, 4)\n",
    "#     print(car1.warna)\n",
    "#     mobilCustom1 = MobilCustom('hitam', 2016, 4)\n",
    "    # mobilCustom2 = MobilCustom('ijo')\n",
    "    # mobilCustom1.tes()\n",
    "\n",
    "    nadia = Person(\"nadia\", 'S.St')\n",
    "    nadiaN = Wisudawan(\"Nadia Ningtias\", \"S.Tr\",3.5)\n",
    "    print(nadia.name)\n",
    "    print(nadiaN.ipk)\n",
    "\n",
    "    # VIEWING dictionary / (Object)\n",
    "    \n",
    "\n",
    "    pprint(vars(nadiaN))\n",
    "    print(nadiaN.__dict__)\n",
    "#   print(vars(nadiaN))\n",
    "    print(vars)\n",
    "\n",
    "    #ACCESSING atributte\n",
    "    print(getattr(nadiaN, 'gelar'))\n",
    "    print(hasattr(nadiaN,'usia'))\n",
    "    print(hasattr(nadiaN,'name'))\n",
    "\n",
    "    #objek yang sudah jadi bisa ditambah atribute \n",
    "    nadiaN.warna = \"cokelat\"\n",
    "    setattr(nadiaN,\"alamat\", \"BSD City\")\n",
    "    \n",
    "\n",
    "    #menghapus atribute dari objek\n",
    "    delattr(nadiaN, 'alamat')\n",
    "    del nadiaN.warna\n",
    "    pprint(vars(nadiaN))\n",
    "\n",
    "    mengubahDataJadiObjek()\n",
    "    persegiBerdasarSisi()\n"
   ]
  },
  {
   "cell_type": "code",
   "execution_count": 34,
   "metadata": {},
   "outputs": [
    {
     "name": "stdout",
     "output_type": "stream",
     "text": [
      "nadia\n",
      "3.5\n",
      "{'gelar': 'S.Tr', 'ipk': 3.5, 'name': 'Nadia Ningtias'}\n",
      "{'name': 'Nadia Ningtias', 'gelar': 'S.Tr', 'ipk': 3.5}\n",
      "<built-in function vars>\n",
      "S.Tr\n",
      "False\n",
      "True\n",
      "{'gelar': 'S.Tr', 'ipk': 3.5, 'name': 'Nadia Ningtias'}\n",
      "----------------------------------------------------\n",
      "{'nama': 'Nadia Ningtias', 'usia': 21}\n",
      "{'nama': 'Andi', 'usia': 22}\n",
      "{'nama': 'Budi', 'usia': 23}\n",
      "{'nama': 'caca', 'usia': 24}\n",
      "{'nama': 'Nadia Ningtias', 'usia': 21}\n",
      "{'nama': 'Andi', 'usia': 22}\n",
      "{'nama': 'Budi', 'usia': 23}\n",
      "{'nama': 'caca', 'usia': 24}\n",
      "Nadia Ningtias\n",
      "{'keliling': 20, 'luas': 25, 'sisi': 5}\n",
      "angka 3222 :  MMMCCXXII\n",
      "angka 3222 :  MMMCCXXII\n"
     ]
    }
   ],
   "source": [
    "def main():\n",
    "    latihan5November()\n",
    "    tugas5November()\n",
    "if __name__ == '__main__':\n",
    "    main()"
   ]
  }
 ],
 "metadata": {
  "kernelspec": {
   "display_name": "Python 3",
   "language": "python",
   "name": "python3"
  },
  "language_info": {
   "codemirror_mode": {
    "name": "ipython",
    "version": 3
   },
   "file_extension": ".py",
   "mimetype": "text/x-python",
   "name": "python",
   "nbconvert_exporter": "python",
   "pygments_lexer": "ipython3",
   "version": "3.6.1"
  }
 },
 "nbformat": 4,
 "nbformat_minor": 2
}
