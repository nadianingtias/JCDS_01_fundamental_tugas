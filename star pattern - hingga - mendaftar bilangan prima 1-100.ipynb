{
 "cells": [
  {
   "cell_type": "code",
   "execution_count": 1,
   "metadata": {
    "scrolled": true
   },
   "outputs": [
    {
     "name": "stdout",
     "output_type": "stream",
     "text": [
      "* \n",
      "* * \n",
      "* * * \n",
      "* * * * \n",
      "* * * * * \n"
     ]
    }
   ],
   "source": [
    "def star(x):\n",
    "    star = ''\n",
    "    for i in range(x):\n",
    "        star +='* '\n",
    "        print(star)\n",
    "star(5)"
   ]
  },
  {
   "cell_type": "code",
   "execution_count": 2,
   "metadata": {
    "scrolled": true
   },
   "outputs": [
    {
     "name": "stdout",
     "output_type": "stream",
     "text": [
      "* * * * * \n",
      "* * * * \n",
      "* * * \n",
      "* * \n",
      "* \n"
     ]
    }
   ],
   "source": [
    "def rstar(x):\n",
    "    star = ''\n",
    "    for i in range(x):\n",
    "        star = '* '*(x-i)\n",
    "        print(star)\n",
    "rstar(5)"
   ]
  },
  {
   "cell_type": "code",
   "execution_count": 3,
   "metadata": {},
   "outputs": [
    {
     "name": "stdout",
     "output_type": "stream",
     "text": [
      "\n",
      "1 \n",
      "1 2 \n",
      "1 2 3 \n",
      "1 2 3 4 \n",
      "1 2 3 4 5 \n"
     ]
    }
   ],
   "source": [
    "def angkaPyramid(x):\n",
    "    for i in range(x+1):\n",
    "        for j in range(i):\n",
    "            print(j+1, end=' ')\n",
    "        print('')\n",
    "angkaPyramid(5)"
   ]
  },
  {
   "cell_type": "code",
   "execution_count": 4,
   "metadata": {
    "scrolled": true
   },
   "outputs": [
    {
     "name": "stdout",
     "output_type": "stream",
     "text": [
      "\n",
      "1 \n",
      "1 2 \n",
      "1 2 3 \n",
      "1 2 3 4 \n",
      "1 2 3 4 5 \n",
      "1 2 3 4 \n",
      "1 2 3 \n",
      "1 2 \n",
      "1 \n",
      "\n",
      "\n"
     ]
    }
   ],
   "source": [
    "def angkaPanah(x):\n",
    "    for i in range((x+1)):\n",
    "        for j in range(i):\n",
    "                print(j+1, end=' ')\n",
    "        print('')\n",
    "    for i in range((x+1)):\n",
    "        for j in range(x-i-1):\n",
    "                print(j+1, end=' ')\n",
    "        print('')\n",
    "angkaPanah(5)"
   ]
  },
  {
   "cell_type": "code",
   "execution_count": 5,
   "metadata": {
    "scrolled": true
   },
   "outputs": [
    {
     "name": "stdout",
     "output_type": "stream",
     "text": [
      "\n",
      "1 \n",
      "2 2 \n",
      "3 3 3 \n",
      "4 4 4 4 \n",
      "5 5 5 5 5 \n"
     ]
    }
   ],
   "source": [
    "def angkaAtas1(x):\n",
    "    for i in range(x+1):\n",
    "        print((str(i)+' ')* i)\n",
    "angkaAtas1(5)"
   ]
  },
  {
   "cell_type": "code",
   "execution_count": 8,
   "metadata": {
    "scrolled": true
   },
   "outputs": [
    {
     "name": "stdout",
     "output_type": "stream",
     "text": [
      "1 1 1 1 1 \n",
      "2 2 2 2 \n",
      "3 3 3 \n",
      "4 4 \n",
      "5 \n"
     ]
    }
   ],
   "source": [
    "def angkaAtas2(x):\n",
    "    for i in range(x):\n",
    "        print((str(i+1)+' ')* (x-i))\n",
    "angkaAtas2(5)"
   ]
  },
  {
   "cell_type": "code",
   "execution_count": 9,
   "metadata": {},
   "outputs": [
    {
     "name": "stdout",
     "output_type": "stream",
     "text": [
      "\n",
      "5 \n",
      "5 4 \n",
      "5 4 3 \n",
      "5 4 3 2 \n",
      "5 4 3 2 1 \n"
     ]
    }
   ],
   "source": [
    "def angkaAtas3(x):\n",
    "    for i in range(x+1):\n",
    "        for j in range(i):\n",
    "            print(x-j, end=' ')\n",
    "        print()\n",
    "angkaAtas3(5)"
   ]
  },
  {
   "cell_type": "code",
   "execution_count": 10,
   "metadata": {},
   "outputs": [
    {
     "name": "stdout",
     "output_type": "stream",
     "text": [
      "str\n",
      "5 4 3 2 1 \n",
      "5 4 3 2 \n",
      "5 4 3 \n",
      "5 4 \n",
      "5 \n"
     ]
    }
   ],
   "source": [
    "def angkaAtas4(x):\n",
    "    print(\"str\")\n",
    "    for i in range(x):\n",
    "        res=''\n",
    "        for j in range(x-i):\n",
    "            res += str(x-j) +' '\n",
    "        print(res)\n",
    "angkaAtas4(5)"
   ]
  },
  {
   "cell_type": "markdown",
   "metadata": {},
   "source": [
    "### fungsi pangkat"
   ]
  },
  {
   "cell_type": "code",
   "execution_count": 11,
   "metadata": {},
   "outputs": [
    {
     "name": "stdout",
     "output_type": "stream",
     "text": [
      "16\n"
     ]
    }
   ],
   "source": [
    "def pangkat(x, pangkat):\n",
    "    res=1\n",
    "    for i in range(pangkat):\n",
    "        res*=x\n",
    "    return res\n",
    "print(pangkat(2,4))"
   ]
  },
  {
   "cell_type": "code",
   "execution_count": 13,
   "metadata": {},
   "outputs": [
    {
     "name": "stdout",
     "output_type": "stream",
     "text": [
      "16\n"
     ]
    }
   ],
   "source": [
    "def pangkatRecursion(x, pangkat):\n",
    "    if pangkat != 1:\n",
    "        return x * pangkatRecursion(x,pangkat-1)\n",
    "    else:\n",
    "        return x\n",
    "print(pangkatRecursion(2,4))"
   ]
  },
  {
   "cell_type": "code",
   "execution_count": 14,
   "metadata": {},
   "outputs": [
    {
     "name": "stdout",
     "output_type": "stream",
     "text": [
      "16\n"
     ]
    }
   ],
   "source": [
    "def pangkatPlus(x, pangkat):\n",
    "    # 2^3 = 2*2 *2\n",
    "    # 2*2 = 2 + 2 = 4\n",
    "    # 4*2 = 4 + 4 = 8\n",
    "\n",
    "    # 3^4 = 3*3*3*3\n",
    "\n",
    "    # 3*3 = 3+3+3 = 9\n",
    "    # 9*3 = 9+9+9 = 27\n",
    "    # 27*3 = 27+27+27 = 81\n",
    "    res=0\n",
    "    tem = x\n",
    "    for b in range(pangkat-1):\n",
    "        if b == 0:\n",
    "            for i in range(x):\n",
    "                res += tem\n",
    "        else:\n",
    "            for i in range(x-1):\n",
    "                res += tem\n",
    "        tem = res\n",
    "    return tem\n",
    "\n",
    "print(pangkatPlus(2,4))"
   ]
  },
  {
   "cell_type": "markdown",
   "metadata": {},
   "source": [
    "## fungsi faktorial"
   ]
  },
  {
   "cell_type": "code",
   "execution_count": 15,
   "metadata": {},
   "outputs": [
    {
     "name": "stdout",
     "output_type": "stream",
     "text": [
      "24\n",
      "24\n"
     ]
    }
   ],
   "source": [
    "def faktorial(x):\n",
    "    if x<=0:\n",
    "        return 1\n",
    "    elif x<=2:\n",
    "        return x\n",
    "    else:\n",
    "        return x * (faktorial(x-1))\n",
    "def faktorialLoop(x):\n",
    "    res=1\n",
    "    for i in range(x):\n",
    "        res *= i+1\n",
    "    return res\n",
    "\n",
    "print(faktorial(4))\n",
    "print(faktorialLoop(4))"
   ]
  },
  {
   "cell_type": "markdown",
   "metadata": {},
   "source": [
    "## lambda function"
   ]
  },
  {
   "cell_type": "code",
   "execution_count": 17,
   "metadata": {},
   "outputs": [
    {
     "name": "stdout",
     "output_type": "stream",
     "text": [
      "9\n",
      "8\n"
     ]
    }
   ],
   "source": [
    "def myFunction(x):\n",
    "    return lambda a : a**x\n",
    "pangkat_2 = myFunction(2)\n",
    "pangkat_3 = myFunction(3)\n",
    "\n",
    "print(pangkat_2(3))\n",
    "print(pangkat_3(2))"
   ]
  },
  {
   "cell_type": "markdown",
   "metadata": {},
   "source": [
    "## map function"
   ]
  },
  {
   "cell_type": "code",
   "execution_count": 19,
   "metadata": {
    "scrolled": true
   },
   "outputs": [
    {
     "name": "stdout",
     "output_type": "stream",
     "text": [
      "[4, 16, 36, 64, 100]\n",
      "9\n"
     ]
    }
   ],
   "source": [
    "d = [2,4,6,8,10]\n",
    "pangkat = lambda a : a*a # a**2\n",
    "print(list(map(pangkat, d)))\n",
    "print(pangkat(3))"
   ]
  },
  {
   "cell_type": "markdown",
   "metadata": {},
   "source": [
    "### Filter Function"
   ]
  },
  {
   "cell_type": "code",
   "execution_count": 24,
   "metadata": {},
   "outputs": [
    {
     "name": "stdout",
     "output_type": "stream",
     "text": [
      "[6, 7, 8, 9, 10]\n"
     ]
    }
   ],
   "source": [
    "listX = range(11)\n",
    "def lebihLima(x):\n",
    "    if x<=5: return False\n",
    "    else: return True\n",
    "listY = filter(lebihLima, listX)\n",
    "# kalau True dia masuk, kalau false dia dibuang oleh filter()\n",
    "print(list(listY))"
   ]
  },
  {
   "cell_type": "markdown",
   "metadata": {},
   "source": [
    "## Reduce Function"
   ]
  },
  {
   "cell_type": "code",
   "execution_count": 30,
   "metadata": {},
   "outputs": [
    {
     "name": "stdout",
     "output_type": "stream",
     "text": [
      "120\n",
      "120\n",
      "ini ibu budi\n",
      "ini ibu budi\n",
      "Nadia Ningtias\n"
     ]
    }
   ],
   "source": [
    "from functools import reduce #butuh import library untuk using reduce function\n",
    "\n",
    "# lambda1 = lambda a: a in [2,3,4,5]\n",
    "angka = [1,2,3,4,5]\n",
    "# mengetahui perkalian dalam list\n",
    "hasil =1\n",
    "for i in angka:\n",
    "    hasil *= i\n",
    "print(hasil)\n",
    "z = reduce(lambda a,y : a*y, angka)\n",
    "print(z)\n",
    "\n",
    "stringContoh = [\"ini\", \"ibu\", \"budi\"]\n",
    "print(' '.join(stringContoh))\n",
    "kalimat = reduce(lambda a,y : a+' ' +y, stringContoh)\n",
    "print(kalimat)\n",
    "myString = \"Nadia Ningtias\"\n",
    "myName = reduce(lambda a,x: a+ '' +x, myString)\n",
    "print(myName)"
   ]
  },
  {
   "cell_type": "markdown",
   "metadata": {},
   "source": [
    "# CASE SOAL : var nomor = [1-100]\n",
    "### => angka genap => setiap angka genap di* 2\n",
    "### => hasilnya dijumlahkan satu sama lain"
   ]
  },
  {
   "cell_type": "code",
   "execution_count": 32,
   "metadata": {},
   "outputs": [
    {
     "name": "stdout",
     "output_type": "stream",
     "text": [
      "total :  5100\n"
     ]
    }
   ],
   "source": [
    "# CASE SOAL : var nomor = [1-100]\n",
    "# => angka genap => setiap angka genap di* 2\n",
    "# => hasilnya dijumlahkan satu sama lain\n",
    "\n",
    "nomor = range(1,101)\n",
    "total = reduce( lambda a,x: a+x,\n",
    "                                    list(map(lambda a: a*2 , \n",
    "                                                            list(filter(lambda a : a%2==0, nomor))\n",
    "                                            )\n",
    "                                        )\n",
    "                    )\n",
    "print(\"total : \", total)"
   ]
  },
  {
   "cell_type": "markdown",
   "metadata": {},
   "source": [
    "## Mencari bilangan prima dari angka 1-100"
   ]
  },
  {
   "cell_type": "code",
   "execution_count": 34,
   "metadata": {},
   "outputs": [
    {
     "name": "stdout",
     "output_type": "stream",
     "text": [
      "[2, 3, 5, 7, 11, 13, 17, 19, 23, 29, 31, 37, 41, 43, 47, 53, 59, 61, 67, 71, 73, 79, 83, 89, 97]\n",
      "25\n"
     ]
    }
   ],
   "source": [
    "def cekprima(x):\n",
    "    prima = False\n",
    "    listX = range(2,x)\n",
    "    if x>1 :\n",
    "        if x == 2:\n",
    "            prima = True\n",
    "        for i in listX:\n",
    "            if x % i==0:\n",
    "                prima = False\n",
    "                break\n",
    "            else:\n",
    "                prima = True\n",
    "    else:\n",
    "        return False\n",
    "    return prima\n",
    "\n",
    "primaNumber = list(filter(cekprima, range(101)))\n",
    "print(primaNumber)\n",
    "print(len(primaNumber))"
   ]
  }
 ],
 "metadata": {
  "kernelspec": {
   "display_name": "Python 3",
   "language": "python",
   "name": "python3"
  },
  "language_info": {
   "codemirror_mode": {
    "name": "ipython",
    "version": 3
   },
   "file_extension": ".py",
   "mimetype": "text/x-python",
   "name": "python",
   "nbconvert_exporter": "python",
   "pygments_lexer": "ipython3",
   "version": "3.6.1"
  }
 },
 "nbformat": 4,
 "nbformat_minor": 2
}
