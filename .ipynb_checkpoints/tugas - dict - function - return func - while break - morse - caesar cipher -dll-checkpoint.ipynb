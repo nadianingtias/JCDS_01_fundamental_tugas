{
 "cells": [
  {
   "cell_type": "code",
   "execution_count": null,
   "metadata": {},
   "outputs": [],
   "source": [
    "days = {\n",
    "    'senin' : 'monday',\n",
    "    'selasa' : 'tuesday',\n",
    "    'rabu' : 'wednesday',\n",
    "    'kamis' : ' thursday',\n",
    "    'jumat' : 'friday',\n",
    "    'sabtu' : 'saturday',\n",
    "    'minggu' : 'sunday'\n",
    "}\n",
    "# i= True\n",
    "# while i == True:\n",
    "day = input(\"type the day : \")\n",
    "# if day in daysValues:\n",
    "#     artinya = daysKeys[daysValues.index(day.lower())]\n",
    "#     print(f\"bahasa of {day.upper()} = {artinya.upper()}\")\n",
    "# else:\n",
    "#     artinya = daysValues[daysKeys.index(day.lower())]\n",
    "#     print(f\"bahasa of {day.upper()} = {artinya.upper()}\")"
   ]
  },
  {
   "cell_type": "markdown",
   "metadata": {},
   "source": [
    "Mencari tahu hari apa (100) hari lagi dari hari (Rabu)"
   ]
  },
  {
   "cell_type": "code",
   "execution_count": null,
   "metadata": {
    "collapsed": true
   },
   "outputs": [],
   "source": []
  }
 ],
 "metadata": {
  "kernelspec": {
   "display_name": "Python 3",
   "language": "python",
   "name": "python3"
  },
  "language_info": {
   "codemirror_mode": {
    "name": "ipython",
    "version": 3
   },
   "file_extension": ".py",
   "mimetype": "text/x-python",
   "name": "python",
   "nbconvert_exporter": "python",
   "pygments_lexer": "ipython3",
   "version": "3.6.1"
  }
 },
 "nbformat": 4,
 "nbformat_minor": 2
}
